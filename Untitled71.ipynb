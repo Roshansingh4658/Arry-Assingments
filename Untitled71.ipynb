{
 "cells": [
  {
   "cell_type": "code",
   "execution_count": 1,
   "id": "a0691e72-2b0c-4302-b18b-5c8ba29187ef",
   "metadata": {},
   "outputs": [
    {
     "name": "stdout",
     "output_type": "stream",
     "text": [
      "True\n"
     ]
    }
   ],
   "source": [
    "def contains_duplicates(arr):\n",
    "    seen = set()\n",
    "    for num in arr:\n",
    "        if num in seen:\n",
    "            return True\n",
    "        seen.add(num)\n",
    "    return False\n",
    "\n",
    "arr = [1, 2, 4, 2, 5, 9]\n",
    "output = contains_duplicates(arr)\n",
    "print(output)  # Output: True\n"
   ]
  },
  {
   "cell_type": "code",
   "execution_count": 2,
   "id": "840532a0-b729-49dc-aff7-cb2cdc1de6d8",
   "metadata": {},
   "outputs": [
    {
     "name": "stdout",
     "output_type": "stream",
     "text": [
      "[5, 6, 7, 1, 2, 3, 4]\n"
     ]
    }
   ],
   "source": [
    "def rotate_array(arr, k):\n",
    "    # Calculate the effective rotation index\n",
    "    k = k % len(arr)\n",
    "    \n",
    "    # Rotate the array\n",
    "    arr[:] = arr[-k:] + arr[:-k]\n",
    "\n",
    "arr = [1, 2, 3, 4, 5, 6, 7]\n",
    "k = 3\n",
    "rotate_array(arr, k)\n",
    "print(arr)  # Output: [5, 6, 7, 1, 2, 3, 4]\n"
   ]
  },
  {
   "cell_type": "code",
   "execution_count": 3,
   "id": "9a6c8491-52fe-42d2-940c-c23625db602d",
   "metadata": {},
   "outputs": [
    {
     "name": "stdout",
     "output_type": "stream",
     "text": [
      "[12, 9, 7, 5, 4, 2]\n"
     ]
    }
   ],
   "source": [
    "def reverse_array(arr):\n",
    "    # Get the length of the array\n",
    "    n = len(arr)\n",
    "    \n",
    "    # Swap elements from the beginning and end of the array\n",
    "    for i in range(n // 2):\n",
    "        arr[i], arr[n - 1 - i] = arr[n - 1 - i], arr[i]\n",
    "\n",
    "arr = [2, 4, 5, 7, 9, 12]\n",
    "reverse_array(arr)\n",
    "print(arr)  # Output: [12, 9, 7, 5, 4, 2]\n"
   ]
  },
  {
   "cell_type": "code",
   "execution_count": 4,
   "id": "f518b440-fbcc-4a5c-bfd3-188b4d7bcd89",
   "metadata": {},
   "outputs": [
    {
     "name": "stdout",
     "output_type": "stream",
     "text": [
      "20\n"
     ]
    }
   ],
   "source": [
    "def find_max(arr):\n",
    "    # Initialize max_element to the first element of the array\n",
    "    max_element = arr[0]\n",
    "\n",
    "    # Iterate through the array to find the maximum element\n",
    "    for num in arr:\n",
    "        if num > max_element:\n",
    "            max_element = num\n",
    "\n",
    "    return max_element\n",
    "\n",
    "arr = [10, 5, 20, 8, 15]\n",
    "output = find_max(arr)\n",
    "print(output)  # Output: 20\n"
   ]
  },
  {
   "cell_type": "code",
   "execution_count": 5,
   "id": "83b5e479-caf2-43d8-801f-9090a3599a4c",
   "metadata": {},
   "outputs": [
    {
     "name": "stdout",
     "output_type": "stream",
     "text": [
      "[1, 2, 3, 4, 5]\n"
     ]
    }
   ],
   "source": [
    "def remove_duplicates(arr):\n",
    "    # Initialize the index where non-duplicate elements will be placed\n",
    "    non_duplicate_index = 0\n",
    "\n",
    "    # Iterate through the array\n",
    "    for i in range(len(arr) - 1):\n",
    "        # If the current element is different from the next one, move it to the next available position\n",
    "        if arr[i] != arr[i + 1]:\n",
    "            arr[non_duplicate_index] = arr[i]\n",
    "            non_duplicate_index += 1\n",
    "\n",
    "    # Copy the last element to the next available position (if not already copied)\n",
    "    arr[non_duplicate_index] = arr[-1]\n",
    "\n",
    "    # Resize the array to remove duplicates\n",
    "    del arr[non_duplicate_index + 1:]\n",
    "\n",
    "arr = [1, 1, 2, 2, 2, 3, 3, 4, 4, 4, 5, 5]\n",
    "remove_duplicates(arr)\n",
    "print(arr)  # Output: [1, 2, 3, 4, 5]\n"
   ]
  },
  {
   "cell_type": "code",
   "execution_count": null,
   "id": "a1c80f19-dc10-45e9-9672-b4afee5c08f7",
   "metadata": {},
   "outputs": [],
   "source": [
    "Submission Guidelines:"
   ]
  }
 ],
 "metadata": {
  "kernelspec": {
   "display_name": "Python 3 (ipykernel)",
   "language": "python",
   "name": "python3"
  },
  "language_info": {
   "codemirror_mode": {
    "name": "ipython",
    "version": 3
   },
   "file_extension": ".py",
   "mimetype": "text/x-python",
   "name": "python",
   "nbconvert_exporter": "python",
   "pygments_lexer": "ipython3",
   "version": "3.11.7"
  }
 },
 "nbformat": 4,
 "nbformat_minor": 5
}
